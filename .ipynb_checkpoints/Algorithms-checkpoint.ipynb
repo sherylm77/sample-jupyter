{
 "cells": [
  {
   "cell_type": "code",
   "execution_count": 13,
   "metadata": {},
   "outputs": [],
   "source": [
    "def get_triples(nums):\n",
    "    triples = []\n",
    "    for i in range(len(nums)-2):\n",
    "        for j in range(i+1, len(nums)-1):\n",
    "            for k in range(j+1, len(nums)):\n",
    "                if nums[i] + nums[j] + nums[k] == 0:\n",
    "                    triple = [[nums[i], nums[j], nums[k]], [nums[j], nums[i], nums[k]], [nums[i], nums[k], nums[j]], [nums[j], nums[k], nums[i]], [nums[k], nums[j], nums[i]], [nums[k], nums[i], nums[j]]] \n",
    "                    add_triple = True\n",
    "                    for t in triple:\n",
    "                        if t in triples:\n",
    "                            add_triple = False\n",
    "                    if add_triple:\n",
    "                        triples.append(triple[0])\n",
    "    return triples"
   ]
  },
  {
   "cell_type": "code",
   "execution_count": 14,
   "metadata": {},
   "outputs": [
    {
     "name": "stdout",
     "output_type": "stream",
     "text": [
      "[[-1, 0, 1], [-1, 2, -1]]\n"
     ]
    }
   ],
   "source": [
    "input = [-1, 0, 1, 2, -1, -4]\n",
    "print(get_triples(input))"
   ]
  },
  {
   "cell_type": "code",
   "execution_count": null,
   "metadata": {},
   "outputs": [],
   "source": [
    "#something new"
   ]
  }
 ],
 "metadata": {
  "kernelspec": {
   "display_name": "Python 3",
   "language": "python",
   "name": "python3"
  },
  "language_info": {
   "codemirror_mode": {
    "name": "ipython",
    "version": 3
   },
   "file_extension": ".py",
   "mimetype": "text/x-python",
   "name": "python",
   "nbconvert_exporter": "python",
   "pygments_lexer": "ipython3",
   "version": "3.7.8"
  }
 },
 "nbformat": 4,
 "nbformat_minor": 4
}
